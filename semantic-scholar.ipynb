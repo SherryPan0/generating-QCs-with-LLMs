{
 "cells": [
  {
   "cell_type": "code",
   "execution_count": 3,
   "metadata": {},
   "outputs": [
    {
     "name": "stdout",
     "output_type": "stream",
     "text": [
      "Total of papers that meet the query: 45\n",
      "Each response return 45 papers\n"
     ]
    }
   ],
   "source": [
    "import requests\n",
    "\n",
    "# Define the API endpoint URL\n",
    "url = 'https://api.semanticscholar.org/graph/v1/paper/search'\n",
    "\n",
    "# More specific query parameter\n",
    "query_params = {'query': 'semantic',\n",
    "                \"venue\": \"IEEE International Requirements Engineering Conference\",\n",
    "                \"limit\": 100}\n",
    "\n",
    "# Directly define the API key (Reminder: Securely handle API keys in production environments)\n",
    "api_key = 'MEVm8ELoj7szS0AFzeP4a3CUneaWCS22qc0uPmO2'  # Replace with the actual API key\n",
    "\n",
    "# Define headers with API key\n",
    "headers = {'x-api-key': api_key}\n",
    "\n",
    "# Send the API request\n",
    "response = requests.get(url, params=query_params, headers=headers)\n",
    "\n",
    "# Check response status\n",
    "if response.status_code == 200:\n",
    "   response_data = response.json()\n",
    "   # Process and print the response data as needed\n",
    "else:\n",
    "   print(f\"Request failed with status code {response.status_code}: {response.text}\")\n",
    "\n",
    "print(f\"Total of papers that meet the query: {response_data['total']}\")\n",
    "paperIDs = []\n",
    "for i in response_data[\"data\"]:\n",
    "    paperIDs.append(i[\"paperId\"])\n",
    "print(f\"Each response return {len(paperIDs)} papers\")"
   ]
  },
  {
   "cell_type": "code",
   "execution_count": 6,
   "metadata": {},
   "outputs": [],
   "source": [
    "import pprint\n",
    "abstract_ls = []\n",
    "title_ls = []\n",
    "for paperId in paperIDs:\n",
    "  # pprint.pprint(paperId)\n",
    "  fileds = \"url,year,title,abstract,venue,journal\"\n",
    "  url = f\"https://api.semanticscholar.org/graph/v1/paper/{paperId}?fields={fileds}\"\n",
    "  r = requests.get(url, headers=headers)\n",
    "  # pprint.pprint(r.json())\n",
    "  title_ls.append(r.json()[\"title\"])\n",
    "  abstract_ls.append(r.json()[\"abstract\"])\n",
    "for idx,abs in enumerate(abstract_ls):\n",
    "  with open(f\"abstracts/{idx+1}.txt\", \"w\") as file:\n",
    "    # Write the string to the file\n",
    "    file.write(abs)\n"
   ]
  }
 ],
 "metadata": {
  "kernelspec": {
   "display_name": "base",
   "language": "python",
   "name": "python3"
  },
  "language_info": {
   "codemirror_mode": {
    "name": "ipython",
    "version": 3
   },
   "file_extension": ".py",
   "mimetype": "text/x-python",
   "name": "python",
   "nbconvert_exporter": "python",
   "pygments_lexer": "ipython3",
   "version": "3.11.5"
  }
 },
 "nbformat": 4,
 "nbformat_minor": 2
}
