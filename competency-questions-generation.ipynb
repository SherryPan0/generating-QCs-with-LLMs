{
 "cells": [
  {
   "cell_type": "markdown",
   "metadata": {},
   "source": [
    "### Create an assistant"
   ]
  },
  {
   "cell_type": "code",
   "execution_count": 4,
   "metadata": {},
   "outputs": [],
   "source": [
    "from openai import OpenAI\n",
    "\n",
    "key = your key",
    "client = OpenAI(api_key=key)\n",
    "assistant = client.beta.assistants.create(\n",
    "    name = \"Expert in Requirements Engineering\",\n",
    "    instructions=\"You are an expert in Requirements Engineering. You are provided with abstracts of papers from IEEE International Requirements Engineering Conference. You would like to desing an ontology to describe the concepts and the relationships among concepts in your domain. Competency questions specify what knowledge has to be entailed in the ontology and thus can be seen as a set of requirements on the content as well as a way of scoping and delimiting the subject domain that has to be represented in the ontology.\",\n",
    "    tools=[{\"type\": \"file_search\"}],\n",
    "    model=\"gpt-4-turbo\"\n",
    ")"
   ]
  },
  {
   "cell_type": "markdown",
   "metadata": {},
   "source": [
    "### Upload files and add them to a Vector Store"
   ]
  },
  {
   "cell_type": "code",
   "execution_count": 5,
   "metadata": {},
   "outputs": [
    {
     "name": "stdout",
     "output_type": "stream",
     "text": [
      "completed\n",
      "FileCounts(cancelled=0, completed=45, failed=0, in_progress=0, total=45)\n"
     ]
    }
   ],
   "source": [
    "import os\n",
    "\n",
    "def get_file_paths(folder_path):\n",
    "    file_paths = []\n",
    "    # Iterate through all files in the folder\n",
    "    for root, dirs, files in os.walk(folder_path):\n",
    "        for file_name in files:\n",
    "            # Get the absolute path of the file\n",
    "            file_path = os.path.join(root, file_name)\n",
    "            # Append the file path to the list\n",
    "            file_paths.append(file_path)\n",
    "    return file_paths\n",
    "\n",
    "# create a Vector Store named vu-ut\n",
    "vector_store = client.beta.vector_stores.create(name=\"vu-ut\")\n",
    "\n",
    "folder = \"abstracts\"\n",
    "file_paths = get_file_paths(folder)\n",
    "file_streams = [open(path, 'rb') for path in file_paths]\n",
    "file_batch = client.beta.vector_stores.file_batches.upload_and_poll(\n",
    "    vector_store_id=vector_store.id,\n",
    "    files=file_streams\n",
    ")\n",
    "\n",
    "print(file_batch.status)\n",
    "print(file_batch.file_counts)"
   ]
  },
  {
   "cell_type": "markdown",
   "metadata": {},
   "source": [
    "### Update the assistant to use the new Vector Store"
   ]
  },
  {
   "cell_type": "code",
   "execution_count": 9,
   "metadata": {},
   "outputs": [],
   "source": [
    "assistant = client.beta.assistants.update(\n",
    "    assistant_id=assistant.id,\n",
    "    tools=[{\"type\": \"file_search\"}],\n",
    "    tool_resources={\"file_search\": {\"vector_store_ids\": [vector_store.id]}},\n",
    ")"
   ]
  },
  {
   "cell_type": "markdown",
   "metadata": {},
   "source": [
    "### Create a thread"
   ]
  },
  {
   "cell_type": "code",
   "execution_count": 10,
   "metadata": {},
   "outputs": [],
   "source": [
    "thread = client.beta.threads.create()"
   ]
  },
  {
   "cell_type": "markdown",
   "metadata": {},
   "source": [
    "### Add a message to the thread"
   ]
  },
  {
   "cell_type": "code",
   "execution_count": 11,
   "metadata": {},
   "outputs": [],
   "source": [
    "def get_response(query,client,assistant,thread):\n",
    "    # add message to the thread\n",
    "    message = client.beta.threads.messages.create(\n",
    "        thread_id=thread.id,\n",
    "        role=\"user\",\n",
    "        content=query\n",
    "    )\n",
    "\n",
    "    # create a run\n",
    "    run = client.beta.threads.runs.create_and_poll(\n",
    "        thread_id=thread.id,\n",
    "        assistant_id=assistant.id\n",
    "    )\n",
    "\n",
    "    # get messages\n",
    "    messages = list(client.beta.threads.messages.list(thread_id=thread.id, run_id=run.id))\n",
    "    message_content = messages[0].content[0].text\n",
    "    annotations = message_content.annotations\n",
    "    citations = []\n",
    "    for index, annotation in enumerate(annotations):\n",
    "        message_content.value = message_content.value.replace(annotation.text, f\"[{index}]\")\n",
    "        if file_citation := getattr(annotation, \"file_citation\", None):\n",
    "            cited_file = client.files.retrieve(file_citation.file_id)\n",
    "            citations.append(f\"[{index}] {cited_file.filename}\")\n",
    "\n",
    "    # print(message_content.value)\n",
    "    # print(\"\\n\".join(citations))\n",
    "    return message_content.value,citations"
   ]
  },
  {
   "cell_type": "markdown",
   "metadata": {},
   "source": [
    "#### query 1"
   ]
  },
  {
   "cell_type": "code",
   "execution_count": 14,
   "metadata": {},
   "outputs": [
    {
     "name": "stdout",
     "output_type": "stream",
     "text": [
      "query: What is Requirements Engineering?\n",
      "response: Requirements Engineering (RE) is the process of defining, documenting, and maintaining requirements in the engineering design process. It involves various stages such as eliciting requirements from stakeholders, analyzing these requirements to determine feasibility and implications, specifying and documenting the requirements in detail, validating and verifying the adequacy of the documented requirements, and managing the requirements as the system is developed and after it is deployed. This process is crucial in ensuring that the developed system or product meets the intended purpose and needs of its intended users and stakeholders.\n"
     ]
    }
   ],
   "source": [
    "query = \"What is Requirements Engineering?\"\n",
    "response = get_response(query,client,assistant,thread)\n",
    "print(f\"query: {query}\")\n",
    "print(f'response: {response[0]}')\n",
    "# print(f\"reference: {response[1]}\")"
   ]
  },
  {
   "cell_type": "markdown",
   "metadata": {},
   "source": [
    "#### query 2"
   ]
  },
  {
   "cell_type": "code",
   "execution_count": 15,
   "metadata": {},
   "outputs": [
    {
     "name": "stdout",
     "output_type": "stream",
     "text": [
      "query: Now you are developing an ontology in Requirements Engineering. Based on the abstracts of papers from the IEEE International Requirements Engineering Conference, derive 5 competency questions.\n",
      "response: Based on the abstracts from the IEEE International Requirements Engineering Conference, here are five competency questions that an ontology in Requirements Engineering might address:\n",
      "\n",
      "1. **How can Trace Link Recovery approaches use semantic relation graphs to enhance the automation and precision in linking requirements**?\n",
      "   - This question is driven by the need to improve Trace Link Recovery methods using semantic representations that automate the creation of trace links between requirements[0].\n",
      "\n",
      "2. **What methods are effective in automatically classifying and tracing non-functional requirements (NFRs) in software systems**?\n",
      "   - Since NFRs are critical for software stability and often overlooked during early development phases, understanding methods to automatically extract and trace them is crucial[1].\n",
      "\n",
      "3. **How can social media platforms like Twitter be leveraged to identify user requirements for software applications through automated approaches**?\n",
      "   - Given the unfeasibility of manually analyzing large volumes of tweets, identifying approaches to classify, group, and rank tweets about software requirements is essential[2].\n",
      "\n",
      "4. **What strategies are employed to elicit and document variable features in software product lines effectively**?\n",
      "   - This involves understanding methods like feature unweaving and aspect-oriented modeling to handle variability in software products which is key to their success and evolution[3].\n",
      "\n",
      "5. **What are the challenges in ensuring semantic transparency in Requirements Engineering notations and how can these be addressed through user involvement**?\n",
      "   - Considering the difficulties stakeholders face in understanding RE notations, exploring methods to improve semantic transparency and stakeholder engagement in the design of these notations is critical[4].\n",
      "\n",
      "Each of these questions aims to delve deeper into specific challenges and solutions in Requirements Engineering, fostering an understanding that benefits the advancement of theory and practice in the field.\n"
     ]
    }
   ],
   "source": [
    "query = \"Now you are developing an ontology in Requirements Engineering. Based on the abstracts of papers from the IEEE International Requirements Engineering Conference, derive 5 competency questions.\"\n",
    "response = get_response(query,client,assistant,thread)\n",
    "print(f\"query: {query}\")\n",
    "print(f'response: {response[0]}')\n",
    "# print(f\"reference: {response[1]}\")"
   ]
  }
 ],
 "metadata": {
  "kernelspec": {
   "display_name": "base",
   "language": "python",
   "name": "python3"
  },
  "language_info": {
   "codemirror_mode": {
    "name": "ipython",
    "version": 3
   },
   "file_extension": ".py",
   "mimetype": "text/x-python",
   "name": "python",
   "nbconvert_exporter": "python",
   "pygments_lexer": "ipython3",
   "version": "3.11.5"
  }
 },
 "nbformat": 4,
 "nbformat_minor": 2
}
